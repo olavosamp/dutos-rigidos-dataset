{
 "cells": [
  {
   "cell_type": "code",
   "execution_count": 1,
   "metadata": {},
   "outputs": [],
   "source": [
    "import os\n",
    "import numpy as np\n",
    "# from time import time, strptime\n",
    "import cv2\n",
    "from tqdm import tqdm\n",
    "import h5py\n",
    "from ipywidgets import interact\n",
    "import matplotlib.pyplot as plt\n",
    "import sys"
   ]
  },
  {
   "cell_type": "code",
   "execution_count": 2,
   "metadata": {},
   "outputs": [],
   "source": [
    "def mkdir(path):\n",
    "    if os.path.isdir(path):\n",
    "        print(\"Directory '\"+path+\"' already exists\")\n",
    "    else:\n",
    "        try:\n",
    "            os.makedirs(path)\n",
    "        except OSError:\n",
    "            print(\"'\"+path+\"' is an invalid path\")"
   ]
  },
  {
   "cell_type": "code",
   "execution_count": 3,
   "metadata": {},
   "outputs": [],
   "source": [
    "def mazza_dataset(video_file, frame_rate=1, square=True, new_size=None):\n",
    "    video = cv2.VideoCapture(video_file)\n",
    "    frame_count = int(video.get(cv2.CAP_PROP_FRAME_COUNT))\n",
    "    fps = video.get(cv2.CAP_PROP_FPS)\n",
    "    duration = frame_count//fps\n",
    "    instants = np.linspace(0,duration,num=duration*frame_rate,endpoint=False)\n",
    "    frame_idxs = round(fps)*instants.reshape(-1,1)\n",
    "    dataset = []\n",
    "    for instant in instants:\n",
    "        video.set(cv2.CAP_PROP_POS_MSEC,instant*1000)\n",
    "        errRead, frame = video.read()\n",
    "        if frame is None:\n",
    "            print('Instant {} returns a null frame',instant)\n",
    "        else:\n",
    "            if square is True:\n",
    "                border = int((frame.shape[1] - frame.shape[0])/2)\n",
    "                frame = frame[:, border : (frame.shape[1]-border), :]\n",
    "            if new_size is not None:\n",
    "                frame = cv2.resize(frame, new_size) \n",
    "            dataset.append(frame)\n",
    "    dataset = np.stack(dataset)\n",
    "    assert(dataset.shape[0] == len(frame_idxs))\n",
    "    return dataset, frame_idxs\n",
    "# video.set(cv2.CAP_PROP_POS_AVI_RATIO,1)\n",
    "# int(video.get(cv2.CAP_PROP_FRAME_COUNT)) #CAP_PROP_FRAME_COUNT CAP_PROP_POS_MSEC CAP_PROP_POS_FRAMES"
   ]
  },
  {
   "cell_type": "raw",
   "metadata": {},
   "source": [
    "def interactive_print(index):\n",
    "    plt.figure(figsize=(6,6))\n",
    "    plt.imshow(dataset[index,:,:,:])\n",
    "    print(frame_idxs[index])"
   ]
  },
  {
   "cell_type": "code",
   "execution_count": 4,
   "metadata": {
    "collapsed": true
   },
   "outputs": [
    {
     "name": "stderr",
     "output_type": "stream",
     "text": [
      "/anaconda3/envs/opencvenv/lib/python3.5/site-packages/ipykernel_launcher.py:6: DeprecationWarning: object of type <class 'float'> cannot be safely interpreted as an integer.\n",
      "  \n"
     ]
    },
    {
     "ename": "KeyboardInterrupt",
     "evalue": "",
     "output_type": "error",
     "traceback": [
      "\u001b[0;31m---------------------------------------------------------------------------\u001b[0m",
      "\u001b[0;31mKeyboardInterrupt\u001b[0m                         Traceback (most recent call last)",
      "\u001b[0;32m<timed exec>\u001b[0m in \u001b[0;36m<module>\u001b[0;34m()\u001b[0m\n",
      "\u001b[0;32m<ipython-input-3-8dbb3bf2d2cf>\u001b[0m in \u001b[0;36mmazza_dataset\u001b[0;34m(video_file, frame_rate, square, new_size)\u001b[0m\n\u001b[1;32m      9\u001b[0m     \u001b[0;32mfor\u001b[0m \u001b[0minstant\u001b[0m \u001b[0;32min\u001b[0m \u001b[0minstants\u001b[0m\u001b[0;34m:\u001b[0m\u001b[0;34m\u001b[0m\u001b[0m\n\u001b[1;32m     10\u001b[0m         \u001b[0mvideo\u001b[0m\u001b[0;34m.\u001b[0m\u001b[0mset\u001b[0m\u001b[0;34m(\u001b[0m\u001b[0mcv2\u001b[0m\u001b[0;34m.\u001b[0m\u001b[0mCAP_PROP_POS_MSEC\u001b[0m\u001b[0;34m,\u001b[0m\u001b[0minstant\u001b[0m\u001b[0;34m*\u001b[0m\u001b[0;36m1000\u001b[0m\u001b[0;34m)\u001b[0m\u001b[0;34m\u001b[0m\u001b[0m\n\u001b[0;32m---> 11\u001b[0;31m         \u001b[0merrRead\u001b[0m\u001b[0;34m,\u001b[0m \u001b[0mframe\u001b[0m \u001b[0;34m=\u001b[0m \u001b[0mvideo\u001b[0m\u001b[0;34m.\u001b[0m\u001b[0mread\u001b[0m\u001b[0;34m(\u001b[0m\u001b[0;34m)\u001b[0m\u001b[0;34m\u001b[0m\u001b[0m\n\u001b[0m\u001b[1;32m     12\u001b[0m         \u001b[0;32mif\u001b[0m \u001b[0mframe\u001b[0m \u001b[0;32mis\u001b[0m \u001b[0;32mNone\u001b[0m\u001b[0;34m:\u001b[0m\u001b[0;34m\u001b[0m\u001b[0m\n\u001b[1;32m     13\u001b[0m             \u001b[0mprint\u001b[0m\u001b[0;34m(\u001b[0m\u001b[0;34m'Instant {} returns a null frame'\u001b[0m\u001b[0;34m,\u001b[0m\u001b[0minstant\u001b[0m\u001b[0;34m)\u001b[0m\u001b[0;34m\u001b[0m\u001b[0m\n",
      "\u001b[0;31mKeyboardInterrupt\u001b[0m: "
     ]
    }
   ],
   "source": [
    "%%time\n",
    "video_file = '../../Videos/PL0138/HD_C_pl0138_VOL006.mp4'\n",
    "frame_rate = 2\n",
    "square = True\n",
    "new_size = (224,224)\n",
    "\n",
    "dataset, frame_idxs = mazza_dataset(video_file, frame_rate, new_size=new_size)"
   ]
  },
  {
   "cell_type": "code",
   "execution_count": 5,
   "metadata": {},
   "outputs": [
    {
     "ename": "NameError",
     "evalue": "name 'interactive_print' is not defined",
     "output_type": "error",
     "traceback": [
      "\u001b[0;31m---------------------------------------------------------------------------\u001b[0m",
      "\u001b[0;31mNameError\u001b[0m                                 Traceback (most recent call last)",
      "\u001b[0;32m<ipython-input-5-fcba19091c2f>\u001b[0m in \u001b[0;36m<module>\u001b[0;34m()\u001b[0m\n\u001b[0;32m----> 1\u001b[0;31m \u001b[0minteract\u001b[0m\u001b[0;34m(\u001b[0m\u001b[0minteractive_print\u001b[0m\u001b[0;34m,\u001b[0m \u001b[0mindex\u001b[0m \u001b[0;34m=\u001b[0m \u001b[0;34m(\u001b[0m\u001b[0;36m0\u001b[0m\u001b[0;34m,\u001b[0m\u001b[0mlen\u001b[0m\u001b[0;34m(\u001b[0m\u001b[0mdataset\u001b[0m\u001b[0;34m)\u001b[0m\u001b[0;34m)\u001b[0m\u001b[0;34m)\u001b[0m\u001b[0;34m\u001b[0m\u001b[0m\n\u001b[0m",
      "\u001b[0;31mNameError\u001b[0m: name 'interactive_print' is not defined"
     ]
    }
   ],
   "source": [
    "interact(interactive_print, index = (0,len(dataset)))"
   ]
  },
  {
   "cell_type": "code",
   "execution_count": null,
   "metadata": {},
   "outputs": [],
   "source": [
    "print('dataset size: {}MB'.format(round(sys.getsizeof(dataset)/1e6)))"
   ]
  },
  {
   "cell_type": "code",
   "execution_count": null,
   "metadata": {},
   "outputs": [],
   "source": [
    "target_path = '../../visualizacao_petrobras-master/dataset/video06'\n",
    "dataset_filename = 'dataset06_framerate2.h5'\n",
    "frames_filename = 'frameidxs06.npy'\n",
    "\n",
    "mkdir(target_path)\n",
    "# np.save(os.path.join(target_path,dataset_filename),dataset)\n",
    "h5f = h5py.File(os.path.join(target_path,dataset_filename), 'w')\n",
    "h5f.create_dataset('X_te', data=dataset)\n",
    "h5f.close()\n",
    "# np.save(os.path.join(target_path,frames_filename),frame_nums)"
   ]
  },
  {
   "cell_type": "code",
   "execution_count": null,
   "metadata": {},
   "outputs": [],
   "source": []
  },
  {
   "cell_type": "code",
   "execution_count": null,
   "metadata": {},
   "outputs": [],
   "source": []
  },
  {
   "cell_type": "code",
   "execution_count": 7,
   "metadata": {},
   "outputs": [],
   "source": [
    "predfile = '../../mazza/dataset/video06/predictions06_weighted.h5'\n",
    "idxfile = '../../mazza/dataset/video06/frameidxs06.npy'\n",
    "targetfile = '../../mazza/dataset/video06/predictions.npy'\n",
    "\n",
    "with h5py.File(predfile, 'r') as hf:\n",
    "    pred = hf['pred'][:]\n",
    "idx = np.rint(np.load(idxfile).reshape(-1,1))\n",
    "\n",
    "# print(idx.shape,pred.shape)\n",
    "np.save(targetfile,np.concatenate((idx,pred),axis=1))"
   ]
  },
  {
   "cell_type": "code",
   "execution_count": 8,
   "metadata": {},
   "outputs": [
    {
     "data": {
      "text/plain": [
       "array([[0.00000000e+00, 1.67865437e-02, 1.44045437e-02],\n",
       "       [3.00000000e+01, 8.64090696e-02, 2.52069049e-02],\n",
       "       [6.00000000e+01, 1.33047208e-01, 6.13176003e-02],\n",
       "       ...,\n",
       "       [5.38560000e+04, 4.09950167e-02, 5.25340959e-02],\n",
       "       [5.38860000e+04, 2.96453219e-02, 1.65397078e-02],\n",
       "       [5.39160000e+04, 1.77728217e-02, 2.44723279e-02]])"
      ]
     },
     "execution_count": 8,
     "metadata": {},
     "output_type": "execute_result"
    }
   ],
   "source": [
    "x = np.load('../../mazza/dataset/video06/predictions06.npy')\n",
    "x"
   ]
  },
  {
   "cell_type": "code",
   "execution_count": null,
   "metadata": {},
   "outputs": [],
   "source": [
    "import glob\n",
    "\n",
    "glob.glob('../LR/*')"
   ]
  }
 ],
 "metadata": {
  "kernelspec": {
   "display_name": "Python 3",
   "language": "python",
   "name": "python3"
  },
  "language_info": {
   "codemirror_mode": {
    "name": "ipython",
    "version": 3
   },
   "file_extension": ".py",
   "mimetype": "text/x-python",
   "name": "python",
   "nbconvert_exporter": "python",
   "pygments_lexer": "ipython3",
   "version": "3.5.5"
  }
 },
 "nbformat": 4,
 "nbformat_minor": 2
}
