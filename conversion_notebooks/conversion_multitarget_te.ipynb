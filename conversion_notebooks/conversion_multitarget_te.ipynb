{
 "cells": [
  {
   "cell_type": "code",
   "execution_count": 1,
   "metadata": {},
   "outputs": [],
   "source": [
    "import os\n",
    "from glob import glob\n",
    "import matplotlib.pyplot as plt\n",
    "import cv2\n",
    "import numpy as np\n",
    "import h5py\n",
    "from ipywidgets import interact\n",
    "import pandas as pd\n",
    "import sys"
   ]
  },
  {
   "cell_type": "code",
   "execution_count": 2,
   "metadata": {},
   "outputs": [],
   "source": [
    "def gen_list_of_image_names(abs_path, extension):\n",
    "    list_of_image_names = glob(os.path.join(abs_path, '*'+extension))\n",
    "    return list_of_image_names"
   ]
  },
  {
   "cell_type": "code",
   "execution_count": 3,
   "metadata": {},
   "outputs": [],
   "source": [
    "def get_img_idx(path):\n",
    "    idx = int(path.split('/')[-1].split('_')[0])\n",
    "    return idx"
   ]
  },
  {
   "cell_type": "code",
   "execution_count": 4,
   "metadata": {},
   "outputs": [],
   "source": [
    "def gen_dateset(list_of_image_names, square=False, newsize=None, color=True):\n",
    "    dataset = []\n",
    "    for img_name in list_of_image_names:\n",
    "        if color:\n",
    "            img = cv2.imread(img_name,1) #array 720x1280 rgb\n",
    "        else:\n",
    "            img = cv2.imread(img_name,0) #array 720x1280 grayscale\n",
    "        if (img is None):\n",
    "            print(img_name,'eh uma imagem vazia')\n",
    "        else:\n",
    "            if square:\n",
    "                border = int((img.shape[1] - img.shape[0])/2)\n",
    "                frame = frame[:, border : (img.shape[1]-border), :]\n",
    "            if newsize:\n",
    "                img = cv2.resize(img, newsize) \n",
    "            dataset.append(img)\n",
    "    #print(type(img))\n",
    "#     print(len(dataset))\n",
    "#     print(type(dataset))\n",
    "    dataset = np.stack(dataset)\n",
    "    return dataset"
   ]
  },
  {
   "cell_type": "code",
   "execution_count": 5,
   "metadata": {},
   "outputs": [],
   "source": [
    "def permutate(ds, labels=None):\n",
    "    p = np.random.permutation(ds.shape[0])\n",
    "    ds = ds[p]\n",
    "    if (labels is not None):\n",
    "        labels = labels[p]\n",
    "        return ds, labels\n",
    "    return ds"
   ]
  },
  {
   "cell_type": "markdown",
   "metadata": {},
   "source": [
    "### importando os targets e pegando os paths dos frames"
   ]
  },
  {
   "cell_type": "code",
   "execution_count": 19,
   "metadata": {},
   "outputs": [],
   "source": [
    "framespath = '/Users/henriquegoncalves/Documents/UFRJ/PF2/Images/imagens_PL0138/'\n",
    "classes = ['dano', 'variacao']\n",
    "\n",
    "cltargets = pd.read_csv(os.path.join(framespath,'targets.csv'),index_col=0)[classes]\n",
    "imgpaths = gen_list_of_image_names(framespath,'.jpg')\n",
    "imgpaths.sort(key=lambda path : get_img_idx(path)) #sort by image index\n",
    "imgpaths = pd.Series(imgpaths)\n",
    "assert(len(cltargets) == len(imgpaths))"
   ]
  },
  {
   "cell_type": "code",
   "execution_count": 20,
   "metadata": {},
   "outputs": [],
   "source": [
    "test_video_name = 'HD_C_pl0138_VOL006'\n",
    "# valid_video_name = 'HD_C_pl0138_VOL007'\n",
    "\n",
    "te_idx = []\n",
    "# tr_idx = []\n",
    "# v_idx = []\n",
    "\n",
    "# for i in range(len(imgnames)):\n",
    "te_idx = [i for i,path in enumerate(imgpaths) if test_video_name in path]\n",
    "# v_idx = [i for i,path in enumerate(imgpaths) if valid_video_name in path]\n",
    "\n",
    "# tr_idx = [path for path in imgpaths if test_video_name not in path]\n",
    "# tr_idx = [i for i,path in enumerate(tr_idx) if valid_video_name not in path]\n",
    "\n",
    "# print(len(tr_idx),len(te_idx),len(v_idx))"
   ]
  },
  {
   "cell_type": "code",
   "execution_count": 21,
   "metadata": {},
   "outputs": [],
   "source": [
    "cltargets['path'] = imgpaths"
   ]
  },
  {
   "cell_type": "code",
   "execution_count": 22,
   "metadata": {},
   "outputs": [],
   "source": [
    "# v_df = cltargets.loc[v_idx]\n",
    "# tr_df = cltargets.loc[tr_idx]\n",
    "te_df = cltargets.loc[te_idx]\n",
    "\n",
    "# v_p_df = v_df[v_df[classes].sum(axis=1) > 0]\n",
    "# v_n_df = v_df[v_df[classes].sum(axis=1) == 0]\n",
    "\n",
    "te_p_df = te_df[te_df[classes].sum(axis=1) > 0]\n",
    "te_n_df = te_df[te_df[classes].sum(axis=1) == 0]\n",
    "\n",
    "# tr_p_df = tr_df[tr_df[classes].sum(axis=1) > 0]\n",
    "# tr_n_df = tr_df[tr_df[classes].sum(axis=1) == 0]\n",
    "\n",
    "#cltargets.loc[(cltargets[cl] == 1) | (cltargets.variacao == 1)]"
   ]
  },
  {
   "cell_type": "code",
   "execution_count": 23,
   "metadata": {},
   "outputs": [],
   "source": [
    "# print(len(v_p_df),len(v_n_df),len(te_p_df),len(te_n_df),len(tr_p_df),len(tr_n_df))"
   ]
  },
  {
   "cell_type": "code",
   "execution_count": 24,
   "metadata": {},
   "outputs": [],
   "source": [
    "# m_v = min(len(v_p_df),len(v_n_df))\n",
    "# m_tr = min(len(tr_p_df),len(tr_n_df))\n",
    "# m_te = min(len(te_p_df),len(te_n_df))\n",
    "\n",
    "# v_p_df = v_p_df.iloc[np.random.permutation(len(v_p_df))]\n",
    "# v_n_df = v_n_df.iloc[np.random.permutation(len(v_n_df))]\n",
    "# tr_p_df = tr_p_df.iloc[np.random.permutation(len(tr_p_df))]\n",
    "# tr_n_df = tr_n_df.iloc[np.random.permutation(len(tr_n_df))]\n",
    "# te_p_df = te_p_df.iloc[np.random.permutation(len(te_p_df))]\n",
    "# te_n_df = te_n_df.iloc[np.random.permutation(len(te_n_df))]\n",
    "\n",
    "# v_p_df = v_p_df.iloc[0:m_v]\n",
    "# v_n_df = v_n_df.iloc[0:m_v]\n",
    "\n",
    "# tr_p_df = tr_p_df.iloc[0:m_tr]\n",
    "# tr_n_df = tr_n_df.iloc[0:m_tr]\n",
    "\n",
    "# te_p_df = te_p_df.iloc[0:m_te]\n",
    "# te_n_df = te_n_df.iloc[0:m_te]"
   ]
  },
  {
   "cell_type": "raw",
   "metadata": {},
   "source": [
    "print(len(v_p_df),len(v_n_df))\n",
    "print(v_p_df.dano.sum(),v_p_df.variacao.sum())\n",
    "print(v_p_df.path.head().values)\n",
    "print(v_p_df.head(20))\n",
    "print(v_n_df.head())"
   ]
  },
  {
   "cell_type": "code",
   "execution_count": 25,
   "metadata": {},
   "outputs": [],
   "source": [
    "# v_dff = v_p_df.append(v_n_df)\n",
    "# tr_dff = tr_p_df.append(tr_n_df)\n",
    "te_dff = te_p_df.append(te_n_df)\n",
    "\n",
    "# tr_dff = tr_dff.iloc[np.random.permutation(len(tr_dff))]\n",
    "# v_dff = v_dff.iloc[np.random.permutation(len(v_dff))]\n",
    "# te_dff = te_dff.iloc[np.random.permutation(len(te_dff))]"
   ]
  },
  {
   "cell_type": "code",
   "execution_count": 26,
   "metadata": {},
   "outputs": [],
   "source": [
    "# print(len(v_dff),len(tr_dff),len(te_dff))"
   ]
  },
  {
   "cell_type": "raw",
   "metadata": {},
   "source": [
    "X_te = gen_dateset(te_dff.path.values.tolist(), newsize=(224,224))\n",
    "Y_te = te_dff[classes].values\n",
    "print('Tamaninho de X_te:',round(sys.getsizeof(X_te)/1e6,2),'MB')\n",
    "del X_te, Y_te"
   ]
  },
  {
   "cell_type": "raw",
   "metadata": {},
   "source": [
    "path = '../datasets/'\n",
    "filename = 'slice_test.h5'\n",
    "f = os.path.join(path, filename)\n",
    "\n",
    "with h5py.File(f, 'r') as hf:\n",
    "#     keys = hf.keys()\n",
    "    X_te0 = hf['X_te0'][:]\n",
    "    X_te1 = hf['X_te1'][:]\n",
    "\n",
    "print(X_te0.shape, X_te1.shape)"
   ]
  },
  {
   "cell_type": "code",
   "execution_count": 27,
   "metadata": {
    "scrolled": true
   },
   "outputs": [
    {
     "name": "stdout",
     "output_type": "stream",
     "text": [
      "Tamaninho de X_te: 327.25 MB\n",
      "CPU times: user 23.3 s, sys: 1.69 s, total: 25 s\n",
      "Wall time: 27 s\n"
     ]
    }
   ],
   "source": [
    "%%time\n",
    "\n",
    "X_te = gen_dateset(te_dff.path.values.tolist(), newsize=(224,224))\n",
    "Y_te = te_dff[classes].values\n",
    "print('Tamaninho de X_te:',round(sys.getsizeof(X_te)/1e6,2),'MB')\n",
    "\n",
    "# X_tr = gen_dateset(tr_dff.path.values.tolist(), newsize=(224,224))\n",
    "# Y_tr = tr_dff[classes].values\n",
    "# print('Tamaninho de X_tr:',round(sys.getsizeof(X_tr)/1e6,1),'MB')\n",
    "\n",
    "# X_v = gen_dateset(v_dff.path.values.tolist(), newsize=(224,224))\n",
    "# Y_v = v_dff[classes].values\n",
    "# print('Tamaninho de X_v:',round(sys.getsizeof(X_v)/1e6,2),'MB')"
   ]
  },
  {
   "cell_type": "raw",
   "metadata": {},
   "source": [
    "print(X_v.shape)\n",
    "print(Y_v.shape)\n",
    "print(np.sum(Y_v,axis=0))"
   ]
  },
  {
   "cell_type": "code",
   "execution_count": 28,
   "metadata": {},
   "outputs": [],
   "source": [
    "xgroup = X_te\n",
    "ygroup = Y_te\n",
    "\n",
    "def interactive_print(index):\n",
    "    plt.figure(figsize=(6,6))\n",
    "    plt.imshow(xgroup[index,:,:,:])\n",
    "    print(pd.DataFrame([ygroup[index,:]],columns=classes).to_string(index=False))"
   ]
  },
  {
   "cell_type": "code",
   "execution_count": 29,
   "metadata": {},
   "outputs": [
    {
     "data": {
      "application/vnd.jupyter.widget-view+json": {
       "model_id": "a2e708d041b842e3abd19cfd12c22c85",
       "version_major": 2,
       "version_minor": 0
      },
      "text/plain": [
       "interactive(children=(IntSlider(value=1087, description='index', max=2174), Output()), _dom_classes=('widget-i…"
      ]
     },
     "metadata": {},
     "output_type": "display_data"
    },
    {
     "data": {
      "text/plain": [
       "<function __main__.interactive_print(index)>"
      ]
     },
     "execution_count": 29,
     "metadata": {},
     "output_type": "execute_result"
    }
   ],
   "source": [
    "interact(interactive_print, index = (0,len(xgroup)))"
   ]
  },
  {
   "cell_type": "code",
   "execution_count": 30,
   "metadata": {},
   "outputs": [
    {
     "ename": "NameError",
     "evalue": "name 'Y_v' is not defined",
     "output_type": "error",
     "traceback": [
      "\u001b[0;31m---------------------------------------------------------------------------\u001b[0m",
      "\u001b[0;31mNameError\u001b[0m                                 Traceback (most recent call last)",
      "\u001b[0;32m<ipython-input-30-457fd4a2ed0f>\u001b[0m in \u001b[0;36m<module>\u001b[0;34m()\u001b[0m\n\u001b[1;32m     13\u001b[0m \u001b[0mh5f\u001b[0m\u001b[0;34m.\u001b[0m\u001b[0mclose\u001b[0m\u001b[0;34m(\u001b[0m\u001b[0;34m)\u001b[0m\u001b[0;34m\u001b[0m\u001b[0m\n\u001b[1;32m     14\u001b[0m \u001b[0;34m\u001b[0m\u001b[0m\n\u001b[0;32m---> 15\u001b[0;31m \u001b[0;32mdel\u001b[0m \u001b[0mY_te\u001b[0m\u001b[0;34m,\u001b[0m \u001b[0mY_v\u001b[0m\u001b[0;34m\u001b[0m\u001b[0m\n\u001b[0m",
      "\u001b[0;31mNameError\u001b[0m: name 'Y_v' is not defined"
     ]
    }
   ],
   "source": [
    "path = '../datasets/'\n",
    "filename = 'VaDa_te_224color.h5'\n",
    "f = os.path.join(path, filename)\n",
    "\n",
    "h5f = h5py.File(f, 'w')\n",
    "# h5f.create_dataset('X_tr', data=X_tr)\n",
    "# h5f.create_dataset('Y_tr', data=Y_tr)\n",
    "# h5f.create_dataset('X_v', data=X_v)\n",
    "# h5f.create_dataset('Y_v', data=Y_v)\n",
    "h5f.create_dataset('X_te', data=X_te)\n",
    "h5f.create_dataset('Y_te', data=Y_te)\n",
    "h5f.create_dataset('classes', data=[c.encode() for c in classes])\n",
    "h5f.close()"
   ]
  },
  {
   "cell_type": "code",
   "execution_count": 60,
   "metadata": {},
   "outputs": [
    {
     "name": "stdout",
     "output_type": "stream",
     "text": [
      "       dano  variacao\n",
      "sfjnv     0         1\n",
      "cvvsd     1         0\n"
     ]
    }
   ],
   "source": [
    "print(pd.DataFrame([[0,1],[1,0]],columns=classes,index=['sfjnv','cvvsd']))#.to_string(index=False))"
   ]
  },
  {
   "cell_type": "code",
   "execution_count": 32,
   "metadata": {
    "collapsed": true
   },
   "outputs": [
    {
     "ename": "NameError",
     "evalue": "name 'X_te' is not defined",
     "output_type": "error",
     "traceback": [
      "\u001b[0;31m---------------------------------------------------------------------------\u001b[0m",
      "\u001b[0;31mNameError\u001b[0m                                 Traceback (most recent call last)",
      "\u001b[0;32m<ipython-input-32-adbb6284cba8>\u001b[0m in \u001b[0;36m<module>\u001b[0;34m()\u001b[0m\n\u001b[0;32m----> 1\u001b[0;31m \u001b[0;32mdel\u001b[0m \u001b[0mX_te\u001b[0m\u001b[0;34m\u001b[0m\u001b[0m\n\u001b[0m",
      "\u001b[0;31mNameError\u001b[0m: name 'X_te' is not defined"
     ]
    }
   ],
   "source": [
    "del X_te, Y_te"
   ]
  }
 ],
 "metadata": {
  "kernelspec": {
   "display_name": "Python 3",
   "language": "python",
   "name": "python3"
  },
  "language_info": {
   "codemirror_mode": {
    "name": "ipython",
    "version": 3
   },
   "file_extension": ".py",
   "mimetype": "text/x-python",
   "name": "python",
   "nbconvert_exporter": "python",
   "pygments_lexer": "ipython3",
   "version": "3.5.5"
  }
 },
 "nbformat": 4,
 "nbformat_minor": 2
}
